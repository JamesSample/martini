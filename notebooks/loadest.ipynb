{
 "cells": [
  {
   "cell_type": "code",
   "execution_count": 2,
   "metadata": {},
   "outputs": [],
   "source": [
    "%matplotlib inline\n",
    "import pandas as pd\n",
    "import matplotlib.pyplot as plt\n",
    "import subprocess\n",
    "plt.style.use('ggplot')"
   ]
  },
  {
   "cell_type": "markdown",
   "metadata": {},
   "source": [
    "# Wrapping LOADEST\n",
    "\n",
    "[LOADEST](https://water.usgs.gov/software/loadest/) is a FORTRAN program from the USGS that implements a variety of linear regression models for estimating riverine fluxes. The package includes algorithms designed to handle missing & censored data and multicollinearity, as well as providing tools for automatic model selection based on the AIC (from within a set of nine pre-defined models). The models included by default have been widely tested and applied, and are capable of accounting for seasonal variations and/or step changes. Full documentation for the original program is [here](https://pubs.usgs.gov/tm/2005/tm4A5/pdf/508final.pdf) and an update is [here](https://water.usgs.gov/software/loadest/doc/loadest_update.pdf) for the current version (released in 2013).\n",
    "\n",
    "LOADEST includes some powerful algorithms, but it lacks visualisation capabiltities and the input & output files are fiddly to work with. This notebook has four main aims:\n",
    "\n",
    " 1. Read water chemistry and hydrology data directly from the RESA2 database and reformat it to create input files for LOADEST <br><br>\n",
    " \n",
    " 2. Run LOADEST automatically via the command line (with predefined parameters for e.g. model selection and the handling of LOD values) <br><br>\n",
    " \n",
    " 3. Read the outputs produced by LOADEST and create diagnostic plots for model evaluation <br><br>\n",
    " \n",
    " 4. Reformat the predicted fluxes from LOADEST to create something more useful for MARTINI\n",
    " \n",
    "**28/09/2018**\n",
    "\n",
    "Initially, I just want to write some code to work with the LOADEST example applications. Application 3 (Section 4.3 of the [LOADEST documentation](https://pubs.usgs.gov/tm/2005/tm4A5/pdf/508final.pdf)) seems most relevant to MARTINI, so I'll begin by writing code to run this example and read the outputs.\n",
    "\n",
    "## 1. Running LOADEST from Python\n",
    "\n",
    "I have copied the example data for Application 3 to\n",
    "\n",
    "    ...\\MARTINI\\Load_Estimation\\loadest\n",
    "    \n",
    "together with a copy of `'loadest.exe'`. Running LOADEST can be achieved very simply using the `'subprocess'` module."
   ]
  },
  {
   "cell_type": "code",
   "execution_count": 12,
   "metadata": {},
   "outputs": [
    {
     "data": {
      "text/plain": [
       "CompletedProcess(args=['loadest'], returncode=0)"
      ]
     },
     "execution_count": 12,
     "metadata": {},
     "output_type": "execute_result"
    }
   ],
   "source": [
    "# Run LOADEST\n",
    "loadest_dir = r'C:\\Data\\James_Work\\Staff\\Phil_W\\MARTINI\\Load_Estimation\\loadest'\n",
    "subprocess.run(['loadest',], \n",
    "               cwd=loadest_dir, \n",
    "               shell=True, \n",
    "               check=True)"
   ]
  },
  {
   "cell_type": "markdown",
   "metadata": {},
   "source": [
    "## 2. Reading output files"
   ]
  },
  {
   "cell_type": "code",
   "execution_count": 14,
   "metadata": {},
   "outputs": [
    {
     "data": {
      "text/html": [
       "<div>\n",
       "<style scoped>\n",
       "    .dataframe tbody tr th:only-of-type {\n",
       "        vertical-align: middle;\n",
       "    }\n",
       "\n",
       "    .dataframe tbody tr th {\n",
       "        vertical-align: top;\n",
       "    }\n",
       "\n",
       "    .dataframe thead th {\n",
       "        text-align: right;\n",
       "    }\n",
       "</style>\n",
       "<table border=\"1\" class=\"dataframe\">\n",
       "  <thead>\n",
       "    <tr style=\"text-align: right;\">\n",
       "      <th></th>\n",
       "      <th>DATE</th>\n",
       "      <th>TIME</th>\n",
       "      <th>DTIME</th>\n",
       "      <th>LN(CFLOW)</th>\n",
       "      <th>F</th>\n",
       "      <th>CCONC</th>\n",
       "      <th>CCONCAML</th>\n",
       "      <th>YHATC</th>\n",
       "      <th>CLOAD</th>\n",
       "      <th>CLOADAML</th>\n",
       "      <th>YHAT</th>\n",
       "      <th>RESID</th>\n",
       "      <th>Z</th>\n",
       "    </tr>\n",
       "  </thead>\n",
       "  <tbody>\n",
       "    <tr>\n",
       "      <th>0</th>\n",
       "      <td>19781219</td>\n",
       "      <td>1000</td>\n",
       "      <td>-5.54744</td>\n",
       "      <td>8.64822</td>\n",
       "      <td>U</td>\n",
       "      <td>0.040</td>\n",
       "      <td>0.082739</td>\n",
       "      <td>-3.19028</td>\n",
       "      <td>557.819</td>\n",
       "      <td>1153.830</td>\n",
       "      <td>6.35263</td>\n",
       "      <td>-0.028592</td>\n",
       "      <td>-0.107023</td>\n",
       "    </tr>\n",
       "    <tr>\n",
       "      <th>1</th>\n",
       "      <td>19790301</td>\n",
       "      <td>1230</td>\n",
       "      <td>-5.34989</td>\n",
       "      <td>11.26700</td>\n",
       "      <td>U</td>\n",
       "      <td>0.030</td>\n",
       "      <td>0.035372</td>\n",
       "      <td>-4.04832</td>\n",
       "      <td>5739.670</td>\n",
       "      <td>6767.420</td>\n",
       "      <td>8.11340</td>\n",
       "      <td>0.541758</td>\n",
       "      <td>0.353183</td>\n",
       "    </tr>\n",
       "    <tr>\n",
       "      <th>2</th>\n",
       "      <td>19790319</td>\n",
       "      <td>1230</td>\n",
       "      <td>-5.30058</td>\n",
       "      <td>9.71716</td>\n",
       "      <td>U</td>\n",
       "      <td>0.020</td>\n",
       "      <td>0.035747</td>\n",
       "      <td>-4.05409</td>\n",
       "      <td>812.263</td>\n",
       "      <td>1451.800</td>\n",
       "      <td>6.55776</td>\n",
       "      <td>0.142064</td>\n",
       "      <td>0.018841</td>\n",
       "    </tr>\n",
       "    <tr>\n",
       "      <th>3</th>\n",
       "      <td>19790327</td>\n",
       "      <td>1000</td>\n",
       "      <td>-5.27894</td>\n",
       "      <td>10.78520</td>\n",
       "      <td>U</td>\n",
       "      <td>0.010</td>\n",
       "      <td>0.034545</td>\n",
       "      <td>-4.08962</td>\n",
       "      <td>1181.700</td>\n",
       "      <td>4082.150</td>\n",
       "      <td>7.59026</td>\n",
       "      <td>-0.515552</td>\n",
       "      <td>-0.260741</td>\n",
       "    </tr>\n",
       "    <tr>\n",
       "      <th>4</th>\n",
       "      <td>19790426</td>\n",
       "      <td>1300</td>\n",
       "      <td>-5.19641</td>\n",
       "      <td>9.22029</td>\n",
       "      <td>C</td>\n",
       "      <td>0.005</td>\n",
       "      <td>0.038182</td>\n",
       "      <td>-3.99165</td>\n",
       "      <td>123.552</td>\n",
       "      <td>943.495</td>\n",
       "      <td>6.12333</td>\n",
       "      <td>-1.403260</td>\n",
       "      <td>-1.033200</td>\n",
       "    </tr>\n",
       "  </tbody>\n",
       "</table>\n",
       "</div>"
      ],
      "text/plain": [
       "       DATE  TIME    DTIME  LN(CFLOW)  F  CCONC  CCONCAML    YHATC     CLOAD  \\\n",
       "0  19781219  1000 -5.54744    8.64822  U  0.040  0.082739 -3.19028   557.819   \n",
       "1  19790301  1230 -5.34989   11.26700  U  0.030  0.035372 -4.04832  5739.670   \n",
       "2  19790319  1230 -5.30058    9.71716  U  0.020  0.035747 -4.05409   812.263   \n",
       "3  19790327  1000 -5.27894   10.78520  U  0.010  0.034545 -4.08962  1181.700   \n",
       "4  19790426  1300 -5.19641    9.22029  C  0.005  0.038182 -3.99165   123.552   \n",
       "\n",
       "   CLOADAML     YHAT     RESID         Z  \n",
       "0  1153.830  6.35263 -0.028592 -0.107023  \n",
       "1  6767.420  8.11340  0.541758  0.353183  \n",
       "2  1451.800  6.55776  0.142064  0.018841  \n",
       "3  4082.150  7.59026 -0.515552 -0.260741  \n",
       "4   943.495  6.12333 -1.403260 -1.033200  "
      ]
     },
     "execution_count": 14,
     "metadata": {},
     "output_type": "execute_result"
    }
   ],
   "source": [
    "# Read residuals\n",
    "res_path = (r'C:\\Data\\James_Work\\Staff\\Phil_W\\MARTINI'\n",
    "            r'\\Load_Estimation\\loadest\\orthophosphate.res')\n",
    "res_df = pd.read_csv(res_path, \n",
    "                     delim_whitespace=True,\n",
    "                     names=['DATE', 'TIME', 'DTIME', 'LN(CFLOW)', 'F', 'CCONC',\n",
    "                            'CCONCAML', 'YHATC', 'CLOAD', 'CLOADAML', 'YHAT', \n",
    "                            'RESID', 'Z'],\n",
    "                     comment='#')\n",
    "res_df.head()"
   ]
  },
  {
   "cell_type": "code",
   "execution_count": 19,
   "metadata": {},
   "outputs": [
    {
     "data": {
      "text/plain": [
       "Text(0.5, 1.0, 'Normal Probability Plot')"
      ]
     },
     "execution_count": 19,
     "metadata": {},
     "output_type": "execute_result"
    },
    {
     "data": {
      "image/png": "[encoded data removed]",
      "text/plain": [
       "<Figure size 576x432 with 1 Axes>"
      ]
     },
     "metadata": {},
     "output_type": "display_data"
    }
   ],
   "source": [
    "# Normal prob plot\n",
    "fig = plt.figure(figsize=(8,6))\n",
    "plt.plot(res_df['Z'], res_df['RESID'], 'ro')\n",
    "plt.plot(res_df['Z'], res_df['Z'], 'k-')\n",
    "plt.xlabel('Z score', fontsize=16)\n",
    "plt.ylabel('Residual', fontsize=16)\n",
    "plt.title('Normal Probability Plot', fontsize=20)"
   ]
  }
 ],
 "metadata": {
  "kernelspec": {
   "display_name": "Python 3",
   "language": "python",
   "name": "python3"
  },
  "language_info": {
   "codemirror_mode": {
    "name": "ipython",
    "version": 3
   },
   "file_extension": ".py",
   "mimetype": "text/x-python",
   "name": "python",
   "nbconvert_exporter": "python",
   "pygments_lexer": "ipython3",
   "version": "3.6.6"
  }
 },
 "nbformat": 4,
 "nbformat_minor": 2
}
